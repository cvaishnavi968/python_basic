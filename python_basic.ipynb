{
  "nbformat": 4,
  "nbformat_minor": 0,
  "metadata": {
    "colab": {
      "provenance": []
    },
    "kernelspec": {
      "name": "python3",
      "display_name": "Python 3"
    },
    "language_info": {
      "name": "python"
    }
  },
  "cells": [
    {
      "cell_type": "markdown",
      "source": [
        "1. What is Python, and why is it popular ?\n",
        "\n",
        "- Python is a high-level, easy to learn programming language that’s popular for everything from web apps to AI.\n",
        "\n",
        "2. What is an interpreter in Python?\n",
        "- A python interpreter is a program that reads and executes python code.\n",
        "\n",
        " 3.What are pre-defined keywords in Python?\n",
        "- Predefined keywords that hold a special meaning and have a specific purpose.\n",
        "\n",
        "4. Can keywords be used as variable names?\n",
        "- No,keywords cannot be used as variable names.\n",
        "\n",
        "5. What is mutability in Python?\n",
        "- objects whose state or value can be changed after they are created are called mutable objects.\n",
        "\n",
        "6. Why are lists mutable, but tuples are immutable?\n",
        "- List is mutable because we add values after list created and in tuples  we cannot add values after tuples are created because tuples are immutable.\n",
        "\n",
        " 7.What is the difference between “==” and “is” operators in Python?\n",
        "- Both are comparison operators but“==”  operators are used for comparing two values and “is”   operators are used for comparing location of the objects.\n",
        "\n",
        "8. What are logical operators in Python?\n",
        "- Logical operators in Python are used to combine conditional statements.they return boolean values(True or False).There are three main logical operators\n",
        "AND, OR, NOT\n",
        "\n",
        "9. What is type casting in Python?\n",
        "- Typecasing is the process of converting datatypes into another. Like you can change an integer into a string.\n",
        "\n",
        "10. What is the difference between implicit and explicit type casting?\n",
        "- An implicit compiler automatically converts a variable from one data type to another.\n",
        "-An explicit programmer manually converts a variable from one data type to another.\n",
        "\n",
        "11. What is the purpose of conditional statements in Python?\n",
        "- Conditional statements are used to control the flow of execution.\n",
        "\n",
        "12. How does the elif statement work?\n",
        "- elif statement is used for check multiple condition in sequence.\n",
        "\n",
        "13. What is the difference between for and while loops?\n",
        "- A for loop is used when you know in advance how many times you want to iterate.\n",
        "- A while loop is used when you don't necessarily know how many iterations you need in advance.\n",
        "\n",
        "14. Describe a scenario where a while loop is more suitable than a for loop.\n",
        "- A while loop is more suitable than a for loop when the number of iterations is not known in advance, and the loop should continue based on a condition rather than a sequence.\n"
      ],
      "metadata": {
        "id": "PHYKSuD6PCgv"
      }
    },
    {
      "cell_type": "code",
      "source": [
        "#1 Write a Python program to print \"Hello, World!\"\n",
        "print(\"Hello, World!\")"
      ],
      "metadata": {
        "colab": {
          "base_uri": "https://localhost:8080/"
        },
        "id": "yik1OBs76kYg",
        "outputId": "c2036f8d-fa46-4579-b5c8-8282625dfe8a"
      },
      "execution_count": null,
      "outputs": [
        {
          "output_type": "stream",
          "name": "stdout",
          "text": [
            "Hello, World!\n"
          ]
        }
      ]
    },
    {
      "cell_type": "code",
      "source": [
        "#2 Write a Python program that displays your name and age\n",
        "name=input(\"Enter your name-\")\n",
        "age=int(input(\"Enter your age-\"))\n",
        "print(\"my name is\",name)\n",
        "print(\"my age is\",age)"
      ],
      "metadata": {
        "colab": {
          "base_uri": "https://localhost:8080/"
        },
        "id": "Ks9yMFZt7BeF",
        "outputId": "fd302a73-6d45-4200-f37c-eb76aeef3ca2"
      },
      "execution_count": null,
      "outputs": [
        {
          "output_type": "stream",
          "name": "stdout",
          "text": [
            "Enter your name-vaishnavi\n",
            "Enter your age-22\n",
            "my name is vaishnavi\n",
            "my age is 22\n"
          ]
        }
      ]
    },
    {
      "cell_type": "code",
      "source": [
        "#3 Write code to print all the pre-defined keywords in Python using the keyword library\n",
        "import keyword\n",
        "print(keyword.kwlist)"
      ],
      "metadata": {
        "colab": {
          "base_uri": "https://localhost:8080/"
        },
        "id": "wEQ6pr6p812U",
        "outputId": "892f6ceb-08a1-4fae-f1e8-0009e28a2ef2"
      },
      "execution_count": null,
      "outputs": [
        {
          "output_type": "stream",
          "name": "stdout",
          "text": [
            "['False', 'None', 'True', 'and', 'as', 'assert', 'async', 'await', 'break', 'class', 'continue', 'def', 'del', 'elif', 'else', 'except', 'finally', 'for', 'from', 'global', 'if', 'import', 'in', 'is', 'lambda', 'nonlocal', 'not', 'or', 'pass', 'raise', 'return', 'try', 'while', 'with', 'yield']\n"
          ]
        }
      ]
    },
    {
      "cell_type": "code",
      "source": [
        "#4 Write a program that checks if a given word is a Python keyword.\n",
        "import keyword\n",
        "word= input(\"Enter a word-\")\n",
        "if keyword.iskeyword(word):\n",
        "    print(word,\"is a keyword\")\n",
        "else:\n",
        "    print(word,\"is not a keyword\")\n",
        "\n"
      ],
      "metadata": {
        "id": "kWj-3zhG9JVc",
        "colab": {
          "base_uri": "https://localhost:8080/"
        },
        "outputId": "560e49d6-86d0-4c8b-a277-560831b47800"
      },
      "execution_count": null,
      "outputs": [
        {
          "output_type": "stream",
          "name": "stdout",
          "text": [
            "Enter a word-def\n",
            "def is a keyword\n"
          ]
        }
      ]
    },
    {
      "cell_type": "code",
      "source": [
        "#5. Create a list and tuple in Python, and demonstrate how attempting to change an element works differently for each.\n",
        "my_list = [1, 2, 3]\n",
        "my_tuple = (1, 2, 3)\n",
        "\n",
        "print(my_list)\n",
        "print(my_tuple)\n",
        "\n",
        "my_list[0] = 4\n",
        "# my_tuple[0] = 4 # This line will cause a TypeError because tuples are immutable\n",
        "\n",
        "print(my_list)\n",
        "print(my_tuple)"
      ],
      "metadata": {
        "colab": {
          "base_uri": "https://localhost:8080/",
          "height": 106
        },
        "id": "BgJnuhzRq1sc",
        "outputId": "549d32b3-667a-475e-fd34-4563f15bd4fc"
      },
      "execution_count": null,
      "outputs": [
        {
          "output_type": "error",
          "ename": "SyntaxError",
          "evalue": "incomplete input (ipython-input-2256383342.py, line 12)",
          "traceback": [
            "\u001b[0;36m  File \u001b[0;32m\"/tmp/ipython-input-2256383342.py\"\u001b[0;36m, line \u001b[0;32m12\u001b[0m\n\u001b[0;31m    print(my_tuple\u001b[0m\n\u001b[0m                  ^\u001b[0m\n\u001b[0;31mSyntaxError\u001b[0m\u001b[0;31m:\u001b[0m incomplete input\n"
          ]
        }
      ]
    },
    {
      "cell_type": "code",
      "source": [
        "#6 Write a function to demonstrate the behavior of mutable and immutable arguments.\n",
        "def modify_list(lst):\n",
        "    lst.append(4)\n",
        "\n",
        "def modify_immutable(x):\n",
        "    x = x + 1\n",
        "    print(\"Inside function:\", x)\n",
        "\n",
        "# Demonstrate with a mutable argument (list)\n",
        "my_list = [1, 2, 3]\n",
        "print(\"Before function call (mutable):\", my_list)\n",
        "modify_list(my_list)\n",
        "print(\"After function call (mutable):\", my_list)\n",
        "\n",
        "# Demonstrate with an immutable argument (integer)\n",
        "my_int = 10\n",
        "print(\"Before function call (immutable):\", my_int)\n",
        "modify_immutable(my_int)\n",
        "print(\"After function call (immutable):\", my_int)"
      ],
      "metadata": {
        "colab": {
          "base_uri": "https://localhost:8080/"
        },
        "id": "9nBIThBguJg1",
        "outputId": "9ef0e032-1085-4ce3-8d14-cfc54b57a886"
      },
      "execution_count": null,
      "outputs": [
        {
          "output_type": "stream",
          "name": "stdout",
          "text": [
            "Before function call (mutable): [1, 2, 3]\n",
            "After function call (mutable): [1, 2, 3, 4]\n",
            "Before function call (immutable): 10\n",
            "Inside function: 11\n",
            "After function call (immutable): 10\n"
          ]
        }
      ]
    },
    {
      "cell_type": "code",
      "source": [
        "#7 Write a program that performs basic arithmetic operations on two user-input numbers.\n",
        "num1 = int(input(\"Enter first number-\"))\n",
        "num2 = int(input(\"Enter second-\"))\n",
        "print(\"Addition\", num1+num2)\n",
        "print(\"subraction\", num1-num2)\n",
        "print(\"multiplication\", num1*num2)\n",
        "print(\"division\", num1/num2)\n",
        "print(\"modulus\", num1%num2)\n",
        "print(\"exponent\", num1**num2)\n",
        "print(\"floor division\", num1//num2)\n",
        "\n"
      ],
      "metadata": {
        "colab": {
          "base_uri": "https://localhost:8080/"
        },
        "id": "xOva8SAFP55r",
        "outputId": "4b5945fa-f82b-4f0d-d802-62e2dc2cb0ce"
      },
      "execution_count": null,
      "outputs": [
        {
          "output_type": "stream",
          "name": "stdout",
          "text": [
            "Enter first number-23\n",
            "Enter second-12\n",
            "Addition 35\n",
            "subraction 11\n",
            "multiplication 276\n",
            "division 1.9166666666666667\n",
            "modulus 11\n",
            "exponent 21914624432020321\n",
            "floor division 1\n"
          ]
        }
      ]
    },
    {
      "cell_type": "code",
      "source": [
        "#8 Write a program to demonstrate the use of logical operators\n",
        "a = int(input(\"Enter first number-\"))\n",
        "b = int(input(\"Enter second number-\"))\n",
        "print(\"a > 0 and b > 0:\", a > 0 and b > 0)\n",
        "print(\"a > 0 or b > 0:\", a > 0 or b > 0)\n",
        "print(\"not (a > 0):\", not (a > 0))"
      ],
      "metadata": {
        "colab": {
          "base_uri": "https://localhost:8080/"
        },
        "id": "U6BEH0IxSvNl",
        "outputId": "02e4f176-f4fb-4c45-a695-249e180903a4"
      },
      "execution_count": null,
      "outputs": [
        {
          "output_type": "stream",
          "name": "stdout",
          "text": [
            "Enter first number-4\n",
            "Enter second number-3\n",
            "a > 0 and b > 0: True\n",
            "a > 0 or b > 0: True\n",
            "not (a > 0): False\n"
          ]
        }
      ]
    },
    {
      "cell_type": "code",
      "source": [
        "#9 Write a Python program to convert user input from string to integer, float, and boolean types\n",
        "A = input(\"Enter a value: \")\n",
        "\n",
        "try:\n",
        "    int_value = int(A)\n",
        "    print(\"Integer:\", int_value)\n",
        "except ValueError:\n",
        "    print(\"Cannot convert to integer.\")\n",
        "\n",
        "try:\n",
        "    float_value = float(A)\n",
        "    print(\"Float:\", float_value)\n",
        "except ValueError:\n",
        "    print(\"Cannot convert to float.\")\n"
      ],
      "metadata": {
        "colab": {
          "base_uri": "https://localhost:8080/"
        },
        "id": "3KLxxkbTaJ5G",
        "outputId": "71904a51-0d76-4fe0-92f9-48483d2f47d5"
      },
      "execution_count": null,
      "outputs": [
        {
          "output_type": "stream",
          "name": "stdout",
          "text": [
            "Enter a value: 5\n",
            "Integer: 5\n",
            "Float: 5.0\n"
          ]
        }
      ]
    },
    {
      "cell_type": "code",
      "source": [
        "#10 Write code to demonstrate type casting with list elements.\n",
        "str_list = [\"10\", \"20\", \"30\", \"40\"]\n",
        "int_list = [int(item) for item in str_list]\n",
        "\n",
        "float_list = [float(item) for item in int_list]\n",
        "\n",
        "str_again_list = [str(item) for item in float_list]\n",
        "\n",
        "bool_list = [bool(item) for item in int_list]"
      ],
      "metadata": {
        "id": "S94w1NyzcFBu"
      },
      "execution_count": 2,
      "outputs": []
    },
    {
      "cell_type": "code",
      "source": [
        "#11 Write a program that checks if a number is positive, negative, or zero.\n",
        "num = int(input(\"Enter a number:\"))\n",
        "\n",
        "if num > 0:\n",
        "    print(\"The number is positive.\")\n",
        "elif num < 0:\n",
        "    print(\"The number is negative.\")\n",
        "else:\n",
        "    print(\"The number is zero.\")\n"
      ],
      "metadata": {
        "id": "2AVCBNpCnTkx",
        "colab": {
          "base_uri": "https://localhost:8080/"
        },
        "outputId": "4a736e41-3600-42da-dd32-f8b93ad613e5"
      },
      "execution_count": null,
      "outputs": [
        {
          "output_type": "stream",
          "name": "stdout",
          "text": [
            "Enter a number:5\n",
            "The number is positive.\n"
          ]
        }
      ]
    },
    {
      "cell_type": "code",
      "source": [
        "#12 Write a for loop to print numbers from 1 to 10\n",
        "for i in range(1, 11):\n",
        "    print(i)"
      ],
      "metadata": {
        "colab": {
          "base_uri": "https://localhost:8080/"
        },
        "id": "RS5yRZhpx0eo",
        "outputId": "2b780130-60bc-4d59-96b4-b694876428dd"
      },
      "execution_count": null,
      "outputs": [
        {
          "output_type": "stream",
          "name": "stdout",
          "text": [
            "1\n",
            "2\n",
            "3\n",
            "4\n",
            "5\n",
            "6\n",
            "7\n",
            "8\n",
            "9\n",
            "10\n"
          ]
        }
      ]
    },
    {
      "cell_type": "code",
      "source": [
        "#13 Write a Python program to find the sum of all even numbers between 1 and 50\n",
        "sum = 0\n",
        "for number in range(1, 51):\n",
        " if number % 2 == 0:\n",
        "    sum += number\n",
        "    print(\"The sum of even numbers between 1 and 50 is:\", sum)"
      ],
      "metadata": {
        "colab": {
          "base_uri": "https://localhost:8080/"
        },
        "id": "nesBj5y-zFKv",
        "outputId": "28caf39a-3520-4245-ee0c-ec24d9398426"
      },
      "execution_count": null,
      "outputs": [
        {
          "output_type": "stream",
          "name": "stdout",
          "text": [
            "The sum of even numbers between 1 and 50 is: 2\n",
            "The sum of even numbers between 1 and 50 is: 6\n",
            "The sum of even numbers between 1 and 50 is: 12\n",
            "The sum of even numbers between 1 and 50 is: 20\n",
            "The sum of even numbers between 1 and 50 is: 30\n",
            "The sum of even numbers between 1 and 50 is: 42\n",
            "The sum of even numbers between 1 and 50 is: 56\n",
            "The sum of even numbers between 1 and 50 is: 72\n",
            "The sum of even numbers between 1 and 50 is: 90\n",
            "The sum of even numbers between 1 and 50 is: 110\n",
            "The sum of even numbers between 1 and 50 is: 132\n",
            "The sum of even numbers between 1 and 50 is: 156\n",
            "The sum of even numbers between 1 and 50 is: 182\n",
            "The sum of even numbers between 1 and 50 is: 210\n",
            "The sum of even numbers between 1 and 50 is: 240\n",
            "The sum of even numbers between 1 and 50 is: 272\n",
            "The sum of even numbers between 1 and 50 is: 306\n",
            "The sum of even numbers between 1 and 50 is: 342\n",
            "The sum of even numbers between 1 and 50 is: 380\n",
            "The sum of even numbers between 1 and 50 is: 420\n",
            "The sum of even numbers between 1 and 50 is: 462\n",
            "The sum of even numbers between 1 and 50 is: 506\n",
            "The sum of even numbers between 1 and 50 is: 552\n",
            "The sum of even numbers between 1 and 50 is: 600\n",
            "The sum of even numbers between 1 and 50 is: 650\n"
          ]
        }
      ]
    },
    {
      "cell_type": "code",
      "source": [
        "#14 Write a program to reverse a string using a while loop.\n",
        "string = input(\"Enter a string: \")\n",
        "reversed_string = \"\"\n",
        "index = len(string) - 1\n",
        "\n",
        "while index >= 0:\n",
        "    reversed_string += string[index]\n",
        "    index -= 1\n",
        "\n",
        "print(\"The reversed string is:\", reversed_string)\n"
      ],
      "metadata": {
        "colab": {
          "base_uri": "https://localhost:8080/"
        },
        "id": "Ry_t2IWK0t-X",
        "outputId": "b05f3cf2-b98a-4e84-9411-a9470241c50f"
      },
      "execution_count": null,
      "outputs": [
        {
          "output_type": "stream",
          "name": "stdout",
          "text": [
            "Enter a string: hello\n",
            "The reversed string is: olleh\n"
          ]
        }
      ]
    },
    {
      "cell_type": "code",
      "metadata": {
        "colab": {
          "base_uri": "https://localhost:8080/"
        },
        "id": "375f43c8",
        "outputId": "b14da3c8-3577-4f28-f798-b744c69b869d"
      },
      "source": [
        "#15 Write a Python program to calculate the factorial of a number provided by the user using a while loop.\n",
        "num = int(input(\"Enter a non-negative integer: \"))\n",
        "factorial = 1\n",
        "\n",
        "if num < 0:\n",
        "    print(\"Factorial is not defined for negative numbers.\")\n",
        "elif num == 0:\n",
        "    print(\"The factorial of 0 is 1.\")\n",
        "else:\n",
        "    i = 1\n",
        "    while i <= num:\n",
        "        factorial *= i\n",
        "        i += 1\n",
        "    print(f\"The factorial of {num} is {factorial}\")"
      ],
      "execution_count": 1,
      "outputs": [
        {
          "output_type": "stream",
          "name": "stdout",
          "text": [
            "Enter a non-negative integer: 7\n",
            "The factorial of 7 is 5040\n"
          ]
        }
      ]
    }
  ]
}